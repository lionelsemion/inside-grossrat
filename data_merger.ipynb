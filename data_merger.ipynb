{
 "cells": [
  {
   "cell_type": "code",
   "execution_count": null,
   "id": "0",
   "metadata": {},
   "outputs": [],
   "source": [
    "import csv\n",
    "import json"
   ]
  },
  {
   "cell_type": "code",
   "execution_count": null,
   "id": "1",
   "metadata": {},
   "outputs": [],
   "source": [
    "csv_votes = 'votes.csv'\n",
    "csv_spiders = 'spiders_smartvote.csv'\n",
    "json_file = 'merged_votes.json'\n",
    "\n",
    "# Liste zum Speichern der Daten\n",
    "data = []\n",
    "\n",
    "# Erst die Votes-Datei einlesen und in ein Dictionary speichern mit (first_name, last_name) als Schlüssel\n",
    "votes_dict = {}\n",
    "\n",
    "with open(csv_votes, mode='r', encoding='utf-8') as f:\n",
    "    reader = csv.reader(f)\n",
    "    header_votes = next(reader)\n",
    "\n",
    "    if len(header_votes) < 3:\n",
    "        raise ValueError(\"Die CSV-Datei 'votes' muss mindestens 3 Spalten haben.\")\n",
    "\n",
    "    for row in reader:\n",
    "        if len(row) < 3:\n",
    "            continue\n",
    "\n",
    "        key = (row[1].strip(), row[2].strip())\n",
    "        votes_dict[key] = {\n",
    "            'id': row[0],\n",
    "            'votes': row[3:],\n",
    "            'spider': []  # Platzhalter für später\n",
    "        }\n",
    "\n",
    "# Dann die Spiders-Datei einlesen und nur verknüpfen, wenn der Name auch in votes_dict existiert\n",
    "with open(csv_spiders, mode='r', encoding='utf-8') as f:\n",
    "    reader = csv.reader(f)\n",
    "    header_spiders = next(reader)\n",
    "\n",
    "    if len(header_spiders) < 3:\n",
    "        raise ValueError(\"Die CSV-Datei 'spiders' muss mindestens 2 Spalten haben.\")\n",
    "\n",
    "    for row in reader:\n",
    "        if len(row) < 3:\n",
    "            continue\n",
    "\n",
    "        key = (row[1].strip(), row[2].strip())\n",
    "        if key in votes_dict:\n",
    "            # Kombiniere die Daten\n",
    "            datensatz = {\n",
    "                'first_name': key[0],\n",
    "                'last_name': key[1],\n",
    "                'id': votes_dict[key]['id'],\n",
    "                'votes': votes_dict[key]['votes'],\n",
    "                'spider': row[3:]  # Spider-Daten ab dritter Spalte\n",
    "            }\n",
    "            data.append(datensatz)\n",
    "\n",
    "print(f\"{len(data)} gemeinsame Datensätze gefunden.\")\n",
    "\n",
    "\n",
    "with open(json_file, mode='w', encoding='utf-8') as f:\n",
    "    json.dump(data, f, indent=4, ensure_ascii=False)\n",
    "\n",
    "print(f'Datei {json_file} wurde erfolgreich erstellt.')\n",
    "\n"
   ]
  }
 ],
 "metadata": {
  "kernelspec": {
   "display_name": "env",
   "language": "python",
   "name": "python3"
  },
  "language_info": {
   "codemirror_mode": {
    "name": "ipython",
    "version": 3
   },
   "file_extension": ".py",
   "mimetype": "text/x-python",
   "name": "python",
   "nbconvert_exporter": "python",
   "pygments_lexer": "ipython3",
   "version": "3.13.2"
  }
 },
 "nbformat": 4,
 "nbformat_minor": 5
}
