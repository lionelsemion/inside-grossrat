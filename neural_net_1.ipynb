{
 "cells": [
  {
   "cell_type": "code",
   "execution_count": null,
   "id": "0",
   "metadata": {},
   "outputs": [],
   "source": [
    "import pandas as pd\n",
    "import numpy as np\n",
    "import matplotlib.pyplot as plt\n",
    "import torch\n",
    "import torch.nn as nn\n",
    "import torch.optim as optim\n",
    "import ast\n",
    "\n",
    "# Load the data\n",
    "input_df = pd.read_csv('candidates_with_questions.csv')\n"
   ]
  },
  {
   "cell_type": "code",
   "execution_count": null,
   "id": "1",
   "metadata": {},
   "outputs": [],
   "source": [
    "# Process the answers column to get a numeric matrix\n",
    "def extract_answers(row):\n",
    "    # Convert string representation of list to actual list\n",
    "    answers = ast.literal_eval(row['answers'])\n",
    "    # Create dictionary with questionId as key and value as value\n",
    "    return {item['questionId']: item['value']/100 for item in answers}\n",
    "\n",
    "# Apply extraction to each row\n",
    "candidates_answers = input_df.apply(extract_answers, axis=1)\n",
    "\n",
    "# Create a dataframe with all questions\n",
    "question_ids = set()\n",
    "for answers in candidates_answers:\n",
    "    question_ids.update(answers.keys())\n",
    "question_ids = sorted(question_ids)\n"
   ]
  },
  {
   "cell_type": "code",
   "execution_count": null,
   "id": "2",
   "metadata": {},
   "outputs": [],
   "source": [
    "# Create feature matrix\n",
    "X = np.zeros((len(input_df), len(question_ids)))\n",
    "for i, answers in enumerate(candidates_answers):\n",
    "    for j, q_id in enumerate(question_ids):\n",
    "        if q_id in answers:\n",
    "            X[i, j] = answers[q_id]\n"
   ]
  },
  {
   "cell_type": "code",
   "execution_count": null,
   "id": "3",
   "metadata": {},
   "outputs": [],
   "source": [
    "print(X.shape[1])"
   ]
  },
  {
   "cell_type": "code",
   "execution_count": null,
   "id": "4",
   "metadata": {},
   "outputs": [],
   "source": [
    "input_dim = X.shape[1]\n",
    "encoding_dim = 4  # Number of dimensions for smart spider\n",
    "\n",
    "device = torch.device('cuda' if torch.cuda.is_available() else 'cpu')\n",
    "\n",
    "class AutoEncoder(nn.Module):\n",
    "    def __init__(self, input_dim, encoding_dim):\n",
    "        super(AutoEncoder, self).__init__()\n",
    "        self.encoder = nn.Sequential(\n",
    "            nn.Linear(input_dim, 32),\n",
    "            nn.GELU(),\n",
    "            nn.Linear(32, 16),\n",
    "            nn.GELU(),\n",
    "            nn.Linear(16, encoding_dim),\n",
    "            nn.Sigmoid()\n",
    "        )\n",
    "        self.decoder = nn.Sequential(\n",
    "            nn.Linear(encoding_dim, 16),\n",
    "            nn.GELU(),\n",
    "            nn.Linear(16, 32),\n",
    "            nn.GELU(),\n",
    "            nn.Linear(32, input_dim),\n",
    "            nn.Sigmoid()\n",
    "        )\n",
    "    def forward(self, x):\n",
    "        encoded = self.encoder(x)\n",
    "        decoded = self.decoder(encoded)\n",
    "        return decoded\n",
    "\n",
    "# Prepare data\n",
    "torch_X = torch.tensor(X, dtype=torch.float32).to(device)\n",
    "from sklearn.model_selection import train_test_split\n",
    "X_train, X_test = train_test_split(torch_X, test_size=0.2, random_state=42)\n",
    "\n",
    "# Model, loss, optimizer\n",
    "model = AutoEncoder(input_dim, encoding_dim).to(device)\n",
    "criterion = nn.BCELoss()\n",
    "optimizer = optim.Adam(model.parameters(), lr=0.005)\n",
    "\n",
    "# Training loop\n",
    "num_epochs = 100\n",
    "batch_size = 64\n",
    "for epoch in range(num_epochs):\n",
    "    model.train()\n",
    "    perm = torch.randperm(X_train.size(0))\n",
    "    for i in range(0, X_train.size(0), batch_size):\n",
    "        idx = perm[i:i+batch_size]\n",
    "        batch = X_train[idx]\n",
    "        optimizer.zero_grad()\n",
    "        output = model(batch)\n",
    "        loss = criterion(output, batch)\n",
    "        loss.backward()\n",
    "        optimizer.step()\n",
    "    print(f\"Epoch {epoch+1}/{num_epochs}, Loss: {loss.item():.4f}\")"
   ]
  },
  {
   "cell_type": "code",
   "execution_count": null,
   "id": "5",
   "metadata": {},
   "outputs": [],
   "source": [
    "# Get encoded features for test set\n",
    "model.eval()\n",
    "with torch.no_grad():\n",
    "    test_encoded_features = model.encoder(X_test).cpu().numpy()\n",
    "    test_last_layer = model(X_test).cpu().numpy()\n",
    "    all_encoded_features = model.encoder(torch_X).cpu().numpy()"
   ]
  },
  {
   "cell_type": "code",
   "execution_count": null,
   "id": "6",
   "metadata": {},
   "outputs": [],
   "source": [
    "mismatch = np.average(np.abs(X_test.cpu().numpy() - test_last_layer))\n",
    "print(f\"Average mismatch: {mismatch:.4f}\")"
   ]
  },
  {
   "cell_type": "code",
   "execution_count": null,
   "id": "7",
   "metadata": {},
   "outputs": [],
   "source": [
    "features_df = pd.DataFrame(all_encoded_features)\n",
    "id_names = input_df[[\"id\", \"firstname\",\"lastname\"]]\n",
    "joined_df = pd.concat([id_names, features_df], axis=1)\n",
    "\n",
    "joined_df = joined_df.rename(columns={\"firstname\": \"first_name\", \"lastname\": \"last_name\"})\n",
    "\n",
    "joined_df = joined_df.sort_values(by=[\"first_name\", \"last_name\"]).reset_index(drop=True)\n",
    "\n",
    "joined_df.to_csv(\"spiders_smartvote.csv\", index=False)\n",
    "torch.save(model.state_dict(), \"neural_net_1.pt\")"
   ]
  }
 ],
 "metadata": {
  "kernelspec": {
   "display_name": "env",
   "language": "python",
   "name": "python3"
  },
  "language_info": {
   "codemirror_mode": {
    "name": "ipython",
    "version": 3
   },
   "file_extension": ".py",
   "mimetype": "text/x-python",
   "name": "python",
   "nbconvert_exporter": "python",
   "pygments_lexer": "ipython3",
   "version": "3.13.2"
  }
 },
 "nbformat": 4,
 "nbformat_minor": 5
}
