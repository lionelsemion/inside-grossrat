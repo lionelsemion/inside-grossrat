{
 "cells": [
  {
   "cell_type": "code",
   "execution_count": null,
   "id": "0",
   "metadata": {},
   "outputs": [],
   "source": [
    "import pandas as pd\n",
    "\n",
    "df_votes = pd.read_csv('spiders_votes.csv')\n",
    "\n",
    "df_smartvote = pd.read_csv('spiders_smartvote.csv')\n",
    "\n",
    "df_smartvote = df_smartvote[df_smartvote[['first_name', 'last_name']].apply(tuple, axis=1).isin(df_votes[['first_name', 'last_name']].apply(tuple, axis=1))]\n",
    "\n",
    "df_questions_weight = pd.read_csv(\"smartvote_spider_question_weights.csv\").fillna(0)\n",
    "\n",
    "df_smartvote['sv_id'] = df_smartvote.apply(\n",
    "    lambda x: df_votes.loc[\n",
    "        (df_votes['first_name'] == x['first_name']) & (df_votes['last_name'] == x['last_name']), 'id'\n",
    "    ].values[0],\n",
    "    axis=1\n",
    ")\n",
    "\n",
    "\n",
    "sv_categories = [\"offene_aussenpolitik\", \"liberale_wirtschaftspolitik\", \"restriktive_finanzpolitik\", \"law_and_order\", \"restriktive_migrationspolitik\", \"ausgebauter_umweltschutz\", \"ausgebauter_sozialstaat\", \"liberale_gesellschaft\"]\n",
    "prettier_labels = [\" \".join([y.capitalize() for y in x.replace(\"and\", \"&\").split(\"_\")]) for x in sv_categories]\n",
    "\n"
   ]
  },
  {
   "cell_type": "code",
   "execution_count": null,
   "id": "1",
   "metadata": {},
   "outputs": [],
   "source": [
    "import torch\n",
    "import torch.nn as nn\n",
    "class AutoEncoder(nn.Module):\n",
    "    def __init__(self, input_dim, encoding_dim):\n",
    "        super(AutoEncoder, self).__init__()\n",
    "        self.encoder = nn.Sequential(\n",
    "            #Maybe try layer norm here and after bottleneck?\n",
    "            nn.Linear(input_dim, 48),\n",
    "            nn.GELU(),\n",
    "            nn.LazyLinear(24),\n",
    "            nn.GELU(),\n",
    "            nn.LazyLinear(encoding_dim),\n",
    "            nn.Sigmoid()\n",
    "        )\n",
    "        self.decoder = nn.Sequential(\n",
    "            nn.Linear(encoding_dim, 24),\n",
    "            nn.GELU(),\n",
    "            nn.LazyLinear(48),\n",
    "            nn.GELU(),\n",
    "            nn.LazyLinear(input_dim),\n",
    "            nn.Sigmoid()\n",
    "        )\n",
    "    def forward(self, x):\n",
    "        encoded = self.encoder(x)\n",
    "        decoded = self.decoder(encoded)\n",
    "        return decoded"
   ]
  },
  {
   "cell_type": "code",
   "execution_count": null,
   "id": "2",
   "metadata": {},
   "outputs": [],
   "source": [
    "model = AutoEncoder(58,4)\n",
    "model.load_state_dict(torch.load(\"neural_net_1.pt\"))"
   ]
  },
  {
   "cell_type": "code",
   "execution_count": null,
   "id": "3",
   "metadata": {},
   "outputs": [],
   "source": [
    "spider_selector = [\"0\", \"1\", \"2\", \"3\"]\n",
    "votes = torch.tensor(df_votes[spider_selector].values, dtype=torch.float32)\n",
    "smartvote = torch.tensor(df_smartvote[spider_selector].values, dtype=torch.float32)"
   ]
  },
  {
   "cell_type": "code",
   "execution_count": null,
   "id": "4",
   "metadata": {},
   "outputs": [],
   "source": [
    "def to_smartvote_spider(spider4 : torch.tensor):\n",
    "    pred_answers = model.decoder(spider4)\n",
    "    sv_spider_tensor = torch.zeros(8, 171)\n",
    "    for i, sv_category in enumerate(sv_categories):\n",
    "        sv_spider_tensor[i] = (torch.tensor(df_questions_weight[sv_category]) * pred_answers).sum(axis=-1)\n",
    "        \n",
    "    return sv_spider_tensor\n",
    "\n",
    "to_smartvote_spider(votes)[0].shape"
   ]
  },
  {
   "cell_type": "code",
   "execution_count": null,
   "id": "5",
   "metadata": {},
   "outputs": [],
   "source": [
    "import matplotlib.pyplot as plt\n",
    "import numpy as np\n",
    "import os\n",
    "\n",
    "def plot_two_spider_charts(data1, data2, title):\n",
    "    data1 = list(data1)\n",
    "    data2 = list(data2)\n",
    "    \n",
    "    num_vars1 = len(data1)\n",
    "    num_vars2 = len(data2)\n",
    "\n",
    "    angles1 = np.linspace(0, 2 * np.pi, num_vars1, endpoint=False).tolist()\n",
    "    angles1 += angles1[:1]\n",
    "    data1 += data1[:1]\n",
    "\n",
    "    angles2 = np.linspace(0, 2 * np.pi, num_vars2, endpoint=False).tolist()\n",
    "    angles2 += angles2[:1]\n",
    "    data2 += data2[:1]\n",
    "\n",
    "    fig, ax = plt.subplots(figsize=(8, 8), subplot_kw=dict(polar=True))\n",
    "\n",
    "    # Plot Datenreihe 1\n",
    "    ax.plot(angles1, data1, label='Abstimmungsverhalten im Rat')\n",
    "    ax.fill(angles1, data1, alpha=0.25)\n",
    "\n",
    "    # Plot Datenreihe 2\n",
    "    ax.plot(angles2, data2, label='Smartvote Profil')\n",
    "    ax.fill(angles2, data2, alpha=0.25)\n",
    "\n",
    "    # Achsenlabels setzen (erste Achse, zweite wird ignoriert, ist aber möglich mit erweitertem Setup)\n",
    "    ax.set_xticks(angles1)\n",
    "\n",
    "    ax.set_xticklabels(prettier_labels+[\"\"], fontweight=\"bold\")\n",
    "\n",
    "    ax.set_title(title)\n",
    "    ax.legend(loc='upper right', bbox_to_anchor=(1.1, 1.1))\n",
    "    filename = title.replace(\" \", \"_\").lower()\n",
    "    plt.savefig(f\"./examples/{filename}.png\", dpi=300, bbox_inches='tight')\n",
    "    plt.show()"
   ]
  },
  {
   "cell_type": "code",
   "execution_count": null,
   "id": "6",
   "metadata": {},
   "outputs": [],
   "source": [
    "df_parties = pd.read_csv(\"candidates_with_questions.csv\")[['id', 'partyAbbreviation']]\n",
    "df_smartvote = df_smartvote.merge(df_parties, on='id', how = \"left\")"
   ]
  },
  {
   "cell_type": "code",
   "execution_count": null,
   "id": "7",
   "metadata": {},
   "outputs": [],
   "source": [
    "v = to_smartvote_spider(votes).detach().numpy()\n",
    "sv = to_smartvote_spider(smartvote).detach().numpy()\n",
    "\n",
    "from random import randint\n",
    "for index in range(len(sv[0])):#Uncomment this line (and comment out the next) if you want to plot all of the data\n",
    "# for index in range(x:=len(sv[0])-5, x+5):\n",
    "    plot_two_spider_charts(v[:, index], sv[:, index], f\"{df_votes['first_name'][index]} {df_votes['last_name'][index]} ({df_smartvote['partyAbbreviation'][index]})\")"
   ]
  }
 ],
 "metadata": {
  "kernelspec": {
   "display_name": "env",
   "language": "python",
   "name": "python3"
  },
  "language_info": {
   "codemirror_mode": {
    "name": "ipython",
    "version": 3
   },
   "file_extension": ".py",
   "mimetype": "text/x-python",
   "name": "python",
   "nbconvert_exporter": "python",
   "pygments_lexer": "ipython3",
   "version": "3.13.2"
  }
 },
 "nbformat": 4,
 "nbformat_minor": 5
}
