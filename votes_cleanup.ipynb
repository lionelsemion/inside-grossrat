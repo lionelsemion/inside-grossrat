{
 "cells": [
  {
   "cell_type": "code",
   "execution_count": null,
   "id": "0",
   "metadata": {},
   "outputs": [],
   "source": [
    "import os\n",
    "import requests\n",
    "import pandas as pd\n",
    "import json\n",
    "import csv"
   ]
  },
  {
   "cell_type": "code",
   "execution_count": null,
   "id": "1",
   "metadata": {},
   "outputs": [],
   "source": [
    "csv_url = \"https://ogd.parl.apps.be.ch/data/abstimmungsliste.csv\"\n",
    "csv_filename = \"abstimmungsliste.csv\"\n",
    "\n",
    "if not os.path.exists(csv_filename):\n",
    "    response = requests.get(csv_url)\n",
    "    response.raise_for_status()\n",
    "    with open(csv_filename, \"wb\") as f:\n",
    "        f.write(response.content)"
   ]
  },
  {
   "cell_type": "code",
   "execution_count": null,
   "id": "2",
   "metadata": {},
   "outputs": [],
   "source": [
    "dataframe = pd.read_csv(csv_filename)\n",
    "\n",
    "display(dataframe.head(5))"
   ]
  },
  {
   "cell_type": "code",
   "execution_count": null,
   "id": "3",
   "metadata": {},
   "outputs": [],
   "source": [
    "def vote_to_int(vote):\n",
    "    if vote == \"Enthalten\":\n",
    "        return 0\n",
    "    elif vote == \"Ja\":\n",
    "        return 1\n",
    "    elif vote == \"Nein\":\n",
    "        return 2\n",
    "    else:\n",
    "        return -1\n",
    "\n",
    "# Get all unique abstimmung_uid values in the order they appear\n",
    "abstimmung_uids = list(dict.fromkeys(dataframe[\"abstimmung_uid\"]))\n",
    "\n",
    "# Prepare header for CSV\n",
    "header = [\"id\", \"first_name\", \"last_name\"] + abstimmung_uids\n",
    "\n",
    "# Prepare a mapping from mitglied_uid to their row data\n",
    "rows = {}\n",
    "for _, row in dataframe.iterrows():\n",
    "    mitglied_uid = row[\"mitglied_uid\"]\n",
    "    if mitglied_uid not in rows:\n",
    "        rows[mitglied_uid] = {\n",
    "            \"id\": mitglied_uid,\n",
    "            \"first_name\": row[\"mitglied_vorname\"],\n",
    "            \"last_name\": row[\"mitglied_name\"],\n",
    "            **{uid: -1 for uid in abstimmung_uids},  # fill with -1 by default\n",
    "        }\n",
    "    abstimmung_uid = row[\"abstimmung_uid\"]\n",
    "    stimme = vote_to_int(row[\"abstimmungsliste_stimme\"])\n",
    "    rows[mitglied_uid][abstimmung_uid] = stimme\n",
    "\n",
    "# Write to CSV\n",
    "with open(\"votes.csv\", \"w\", encoding=\"utf-8\", newline=\"\") as f:\n",
    "    writer = csv.DictWriter(f, fieldnames=header)\n",
    "    writer.writeheader()\n",
    "    for row in rows.values():\n",
    "        writer.writerow(row)\n",
    "print(\"Result written to votes.csv\")\n"
   ]
  }
 ],
 "metadata": {
  "kernelspec": {
   "display_name": "ettikettenschwindel-QMFvM9qk",
   "language": "python",
   "name": "python3"
  },
  "language_info": {
   "codemirror_mode": {
    "name": "ipython",
    "version": 3
   },
   "file_extension": ".py",
   "mimetype": "text/x-python",
   "name": "python",
   "nbconvert_exporter": "python",
   "pygments_lexer": "ipython3",
   "version": "3.13.2"
  }
 },
 "nbformat": 4,
 "nbformat_minor": 5
}
